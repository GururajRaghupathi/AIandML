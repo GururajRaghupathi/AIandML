{
 "cells": [
  {
   "cell_type": "code",
   "execution_count": 20,
   "metadata": {},
   "outputs": [
    {
     "name": "stderr",
     "output_type": "stream",
     "text": [
      "UsageError: Line magic function `%matplatlob` not found.\n"
     ]
    }
   ],
   "source": [
    "import numpy as np\n",
    "import pandas as pd\n",
    "import sklearn\n",
    "import os\n",
    "import subprocess\n",
    "import scipy\n",
    "import tensorflow as tf\n",
    "import math\n",
    "from tensorflow.python.framework import ops\n",
    "from scipy import stats\n",
    "import seaborn as sns\n",
    "import matplotlib.pyplot as plt\n",
    "%matplatlob inline"
   ]
  },
  {
   "cell_type": "code",
   "execution_count": 21,
   "metadata": {},
   "outputs": [],
   "source": [
    "from sklearn.tree import DecisionTreeClassifier\n",
    "from sklearn.datasets import load_iris\n"
   ]
  },
  {
   "cell_type": "code",
   "execution_count": 32,
   "metadata": {},
   "outputs": [],
   "source": [
    "import keras\n",
    "from keras.utils import plot_model\n",
    "import pydot\n",
    "from ann_visualizer.visualize import ann_viz\n",
    "import graphviz\n"
   ]
  },
  {
   "cell_type": "code",
   "execution_count": 23,
   "metadata": {},
   "outputs": [],
   "source": [
    "from keras.models import Sequential\n",
    "from keras.layers import Dense\n",
    "np.random.seed(7)"
   ]
  },
  {
   "cell_type": "code",
   "execution_count": 24,
   "metadata": {
    "scrolled": true
   },
   "outputs": [],
   "source": [
    "dataset = np.loadtxt(\"pima-indians-diabetes.csv\", delimiter=\",\")"
   ]
  },
  {
   "cell_type": "code",
   "execution_count": 25,
   "metadata": {},
   "outputs": [],
   "source": [
    "X = dataset[:,0:8]\n",
    "Y = dataset[:,8]"
   ]
  },
  {
   "cell_type": "code",
   "execution_count": 26,
   "metadata": {},
   "outputs": [],
   "source": [
    "model = Sequential()\n",
    "model.add(Dense(8, input_dim=8, activation='relu', kernel_initializer='random_uniform', bias_initializer='zeros'))\n",
    "model.add(Dense(4, activation='relu'))\n",
    "model.add(Dense(1, activation='sigmoid'))"
   ]
  },
  {
   "cell_type": "code",
   "execution_count": 27,
   "metadata": {},
   "outputs": [],
   "source": [
    "model.compile(loss='binary_crossentropy', optimizer='RMSProp', metrics=['accuracy'])"
   ]
  },
  {
   "cell_type": "code",
   "execution_count": 48,
   "metadata": {},
   "outputs": [
    {
     "name": "stdout",
     "output_type": "stream",
     "text": [
      "Epoch 1/100\n",
      "768/768 [==============================] - 0s 14us/step - loss: 0.5602 - acc: 0.7240\n",
      "Epoch 2/100\n",
      "768/768 [==============================] - 0s 12us/step - loss: 0.5625 - acc: 0.7214\n",
      "Epoch 3/100\n",
      "768/768 [==============================] - 0s 10us/step - loss: 0.5573 - acc: 0.7344\n",
      "Epoch 4/100\n",
      "768/768 [==============================] - 0s 16us/step - loss: 0.5632 - acc: 0.7253\n",
      "Epoch 5/100\n",
      "768/768 [==============================] - 0s 14us/step - loss: 0.5561 - acc: 0.7500\n",
      "Epoch 6/100\n",
      "768/768 [==============================] - 0s 16us/step - loss: 0.5623 - acc: 0.7318\n",
      "Epoch 7/100\n",
      "768/768 [==============================] - 0s 19us/step - loss: 0.5592 - acc: 0.7331\n",
      "Epoch 8/100\n",
      "768/768 [==============================] - 0s 19us/step - loss: 0.5653 - acc: 0.7266\n",
      "Epoch 9/100\n",
      "768/768 [==============================] - 0s 12us/step - loss: 0.5657 - acc: 0.7253\n",
      "Epoch 10/100\n",
      "768/768 [==============================] - 0s 16us/step - loss: 0.5561 - acc: 0.7474\n",
      "Epoch 11/100\n",
      "768/768 [==============================] - 0s 14us/step - loss: 0.5601 - acc: 0.7383\n",
      "Epoch 12/100\n",
      "768/768 [==============================] - 0s 16us/step - loss: 0.5696 - acc: 0.7227\n",
      "Epoch 13/100\n",
      "768/768 [==============================] - 0s 21us/step - loss: 0.5570 - acc: 0.7461\n",
      "Epoch 14/100\n",
      "768/768 [==============================] - 0s 17us/step - loss: 0.5617 - acc: 0.7253\n",
      "Epoch 15/100\n",
      "768/768 [==============================] - 0s 14us/step - loss: 0.5587 - acc: 0.7318\n",
      "Epoch 16/100\n",
      "768/768 [==============================] - 0s 16us/step - loss: 0.5560 - acc: 0.7357\n",
      "Epoch 17/100\n",
      "768/768 [==============================] - 0s 16us/step - loss: 0.5602 - acc: 0.7344\n",
      "Epoch 18/100\n",
      "768/768 [==============================] - 0s 14us/step - loss: 0.5728 - acc: 0.7214\n",
      "Epoch 19/100\n",
      "768/768 [==============================] - 0s 17us/step - loss: 0.5532 - acc: 0.7513\n",
      "Epoch 20/100\n",
      "768/768 [==============================] - 0s 10us/step - loss: 0.5595 - acc: 0.7331\n",
      "Epoch 21/100\n",
      "768/768 [==============================] - 0s 14us/step - loss: 0.5691 - acc: 0.7409\n",
      "Epoch 22/100\n",
      "768/768 [==============================] - 0s 19us/step - loss: 0.5601 - acc: 0.7344\n",
      "Epoch 23/100\n",
      "768/768 [==============================] - 0s 16us/step - loss: 0.5688 - acc: 0.7266\n",
      "Epoch 24/100\n",
      "768/768 [==============================] - 0s 10us/step - loss: 0.5565 - acc: 0.7266\n",
      "Epoch 25/100\n",
      "768/768 [==============================] - 0s 10us/step - loss: 0.5556 - acc: 0.7383\n",
      "Epoch 26/100\n",
      "768/768 [==============================] - 0s 16us/step - loss: 0.5658 - acc: 0.7240\n",
      "Epoch 27/100\n",
      "768/768 [==============================] - 0s 14us/step - loss: 0.5562 - acc: 0.7396\n",
      "Epoch 28/100\n",
      "768/768 [==============================] - 0s 12us/step - loss: 0.5534 - acc: 0.7435\n",
      "Epoch 29/100\n",
      "768/768 [==============================] - 0s 14us/step - loss: 0.5581 - acc: 0.7357\n",
      "Epoch 30/100\n",
      "768/768 [==============================] - 0s 14us/step - loss: 0.5625 - acc: 0.7214\n",
      "Epoch 31/100\n",
      "768/768 [==============================] - 0s 12us/step - loss: 0.5626 - acc: 0.7292\n",
      "Epoch 32/100\n",
      "768/768 [==============================] - 0s 10us/step - loss: 0.5580 - acc: 0.7292\n",
      "Epoch 33/100\n",
      "768/768 [==============================] - 0s 14us/step - loss: 0.5581 - acc: 0.7253\n",
      "Epoch 34/100\n",
      "768/768 [==============================] - 0s 14us/step - loss: 0.5588 - acc: 0.7318\n",
      "Epoch 35/100\n",
      "768/768 [==============================] - 0s 10us/step - loss: 0.5763 - acc: 0.7279\n",
      "Epoch 36/100\n",
      "768/768 [==============================] - 0s 12us/step - loss: 0.5565 - acc: 0.7344\n",
      "Epoch 37/100\n",
      "768/768 [==============================] - 0s 14us/step - loss: 0.5590 - acc: 0.7292\n",
      "Epoch 38/100\n",
      "768/768 [==============================] - 0s 16us/step - loss: 0.5566 - acc: 0.7292\n",
      "Epoch 39/100\n",
      "768/768 [==============================] - 0s 12us/step - loss: 0.5565 - acc: 0.7513\n",
      "Epoch 40/100\n",
      "768/768 [==============================] - 0s 10us/step - loss: 0.5536 - acc: 0.7409\n",
      "Epoch 41/100\n",
      "768/768 [==============================] - 0s 16us/step - loss: 0.5567 - acc: 0.7357\n",
      "Epoch 42/100\n",
      "768/768 [==============================] - 0s 18us/step - loss: 0.5699 - acc: 0.7253\n",
      "Epoch 43/100\n",
      "768/768 [==============================] - 0s 16us/step - loss: 0.5745 - acc: 0.6992\n",
      "Epoch 44/100\n",
      "768/768 [==============================] - 0s 10us/step - loss: 0.5615 - acc: 0.7409\n",
      "Epoch 45/100\n",
      "768/768 [==============================] - 0s 16us/step - loss: 0.5556 - acc: 0.7357\n",
      "Epoch 46/100\n",
      "768/768 [==============================] - 0s 10us/step - loss: 0.5624 - acc: 0.7396\n",
      "Epoch 47/100\n",
      "768/768 [==============================] - ETA: 0s - loss: 0.5594 - acc: 0.772 - 0s 14us/step - loss: 0.5574 - acc: 0.7435\n",
      "Epoch 48/100\n",
      "768/768 [==============================] - 0s 22us/step - loss: 0.5545 - acc: 0.7396\n",
      "Epoch 49/100\n",
      "768/768 [==============================] - 0s 14us/step - loss: 0.5779 - acc: 0.7135\n",
      "Epoch 50/100\n",
      "768/768 [==============================] - 0s 10us/step - loss: 0.5536 - acc: 0.7435\n",
      "Epoch 51/100\n",
      "768/768 [==============================] - 0s 12us/step - loss: 0.5737 - acc: 0.7201\n",
      "Epoch 52/100\n",
      "768/768 [==============================] - 0s 14us/step - loss: 0.5533 - acc: 0.7526\n",
      "Epoch 53/100\n",
      "768/768 [==============================] - 0s 14us/step - loss: 0.5681 - acc: 0.7135\n",
      "Epoch 54/100\n",
      "768/768 [==============================] - 0s 12us/step - loss: 0.5585 - acc: 0.7409\n",
      "Epoch 55/100\n",
      "768/768 [==============================] - 0s 10us/step - loss: 0.5538 - acc: 0.7331\n",
      "Epoch 56/100\n",
      "768/768 [==============================] - 0s 12us/step - loss: 0.5714 - acc: 0.7148\n",
      "Epoch 57/100\n",
      "768/768 [==============================] - 0s 14us/step - loss: 0.5560 - acc: 0.7370\n",
      "Epoch 58/100\n",
      "768/768 [==============================] - 0s 13us/step - loss: 0.5685 - acc: 0.7305\n",
      "Epoch 59/100\n",
      "768/768 [==============================] - 0s 12us/step - loss: 0.5532 - acc: 0.7435\n",
      "Epoch 60/100\n",
      "768/768 [==============================] - 0s 10us/step - loss: 0.5527 - acc: 0.7305\n",
      "Epoch 61/100\n",
      "768/768 [==============================] - 0s 10us/step - loss: 0.5636 - acc: 0.7318\n",
      "Epoch 62/100\n",
      "768/768 [==============================] - 0s 10us/step - loss: 0.5539 - acc: 0.7422\n",
      "Epoch 63/100\n",
      "768/768 [==============================] - 0s 12us/step - loss: 0.5572 - acc: 0.7331\n",
      "Epoch 64/100\n",
      "768/768 [==============================] - 0s 14us/step - loss: 0.5733 - acc: 0.7266\n",
      "Epoch 65/100\n",
      "768/768 [==============================] - 0s 13us/step - loss: 0.5567 - acc: 0.7357\n",
      "Epoch 66/100\n",
      "768/768 [==============================] - 0s 14us/step - loss: 0.5533 - acc: 0.7370\n",
      "Epoch 67/100\n",
      "768/768 [==============================] - 0s 12us/step - loss: 0.5636 - acc: 0.7279\n",
      "Epoch 68/100\n",
      "768/768 [==============================] - 0s 10us/step - loss: 0.5580 - acc: 0.7266\n",
      "Epoch 69/100\n",
      "768/768 [==============================] - 0s 10us/step - loss: 0.5575 - acc: 0.7292\n",
      "Epoch 70/100\n",
      "768/768 [==============================] - 0s 12us/step - loss: 0.5723 - acc: 0.7240\n",
      "Epoch 71/100\n",
      "768/768 [==============================] - 0s 12us/step - loss: 0.5494 - acc: 0.7409\n",
      "Epoch 72/100\n",
      "768/768 [==============================] - 0s 18us/step - loss: 0.5618 - acc: 0.7409\n",
      "Epoch 73/100\n",
      "768/768 [==============================] - 0s 14us/step - loss: 0.5534 - acc: 0.7331\n",
      "Epoch 74/100\n",
      "768/768 [==============================] - 0s 16us/step - loss: 0.5645 - acc: 0.7148\n",
      "Epoch 75/100\n",
      "768/768 [==============================] - 0s 10us/step - loss: 0.5580 - acc: 0.7227\n",
      "Epoch 76/100\n",
      "768/768 [==============================] - 0s 12us/step - loss: 0.5557 - acc: 0.7370\n",
      "Epoch 77/100\n",
      "768/768 [==============================] - 0s 12us/step - loss: 0.5528 - acc: 0.7370\n",
      "Epoch 78/100\n",
      "768/768 [==============================] - 0s 10us/step - loss: 0.5526 - acc: 0.7331\n",
      "Epoch 79/100\n",
      "768/768 [==============================] - 0s 10us/step - loss: 0.5517 - acc: 0.7383\n",
      "Epoch 80/100\n",
      "768/768 [==============================] - 0s 13us/step - loss: 0.5578 - acc: 0.7214\n",
      "Epoch 81/100\n",
      "768/768 [==============================] - 0s 13us/step - loss: 0.5544 - acc: 0.7409\n",
      "Epoch 82/100\n",
      "768/768 [==============================] - 0s 17us/step - loss: 0.5727 - acc: 0.7174\n",
      "Epoch 83/100\n",
      "768/768 [==============================] - 0s 10us/step - loss: 0.5538 - acc: 0.7383\n",
      "Epoch 84/100\n"
     ]
    },
    {
     "name": "stdout",
     "output_type": "stream",
     "text": [
      "768/768 [==============================] - 0s 10us/step - loss: 0.5521 - acc: 0.7266\n",
      "Epoch 85/100\n",
      "768/768 [==============================] - 0s 10us/step - loss: 0.5551 - acc: 0.7253\n",
      "Epoch 86/100\n",
      "768/768 [==============================] - 0s 10us/step - loss: 0.5577 - acc: 0.7318\n",
      "Epoch 87/100\n",
      "768/768 [==============================] - 0s 16us/step - loss: 0.5693 - acc: 0.7240\n",
      "Epoch 88/100\n",
      "768/768 [==============================] - 0s 17us/step - loss: 0.5515 - acc: 0.7409\n",
      "Epoch 89/100\n",
      "768/768 [==============================] - 0s 14us/step - loss: 0.5646 - acc: 0.7174\n",
      "Epoch 90/100\n",
      "768/768 [==============================] - 0s 13us/step - loss: 0.5531 - acc: 0.7370\n",
      "Epoch 91/100\n",
      "768/768 [==============================] - 0s 10us/step - loss: 0.5498 - acc: 0.7409\n",
      "Epoch 92/100\n",
      "768/768 [==============================] - 0s 9us/step - loss: 0.5513 - acc: 0.7383\n",
      "Epoch 93/100\n",
      "768/768 [==============================] - 0s 10us/step - loss: 0.5515 - acc: 0.7344\n",
      "Epoch 94/100\n",
      "768/768 [==============================] - 0s 13us/step - loss: 0.5486 - acc: 0.7461\n",
      "Epoch 95/100\n",
      "768/768 [==============================] - 0s 17us/step - loss: 0.5900 - acc: 0.6914\n",
      "Epoch 96/100\n",
      "768/768 [==============================] - 0s 18us/step - loss: 0.5555 - acc: 0.7370\n",
      "Epoch 97/100\n",
      "768/768 [==============================] - 0s 23us/step - loss: 0.5800 - acc: 0.7005\n",
      "Epoch 98/100\n",
      "768/768 [==============================] - 0s 14us/step - loss: 0.5525 - acc: 0.7409\n",
      "Epoch 99/100\n",
      "768/768 [==============================] - 0s 12us/step - loss: 0.5522 - acc: 0.7318\n",
      "Epoch 100/100\n",
      "768/768 [==============================] - 0s 14us/step - loss: 0.5514 - acc: 0.7292\n"
     ]
    },
    {
     "data": {
      "text/plain": [
       "<keras.callbacks.History at 0x23b1aa1f4e0>"
      ]
     },
     "execution_count": 48,
     "metadata": {},
     "output_type": "execute_result"
    }
   ],
   "source": [
    "model.fit(X, Y, epochs=100, batch_size=250)"
   ]
  },
  {
   "cell_type": "code",
   "execution_count": 49,
   "metadata": {},
   "outputs": [
    {
     "name": "stdout",
     "output_type": "stream",
     "text": [
      "768/768 [==============================] - 0s 22us/step\n",
      "\n",
      "acc: 72.40%\n"
     ]
    }
   ],
   "source": [
    "scores = model.evaluate(X, Y)\n",
    "print(\"\\n%s: %.2f%%\" % (model.metrics_names[1], scores[1]*100))"
   ]
  },
  {
   "cell_type": "markdown",
   "metadata": {},
   "source": [
    "hyperparameters = batch-size, no.of layers, no. of neurons in each layer, optimization algo"
   ]
  },
  {
   "cell_type": "code",
   "execution_count": 12,
   "metadata": {},
   "outputs": [
    {
     "name": "stdout",
     "output_type": "stream",
     "text": [
      "[array([[-0.07585941, -0.15996063, -0.0177981 ,  0.11753878, -0.10701584,\n",
      "        -0.00908862, -0.17127855,  0.02503816],\n",
      "       [-0.03882556, -0.04785235, -0.00132006, -0.08889014, -0.0106361 ,\n",
      "        -0.03511642, -0.02070655, -0.00930094],\n",
      "       [ 0.02638159,  0.09105101, -0.0347345 ,  0.00930192,  0.04463752,\n",
      "        -0.00820418,  0.07873283, -0.01848534],\n",
      "       [ 0.00978784,  0.01507561, -0.00050914,  0.01004759,  0.00334687,\n",
      "         0.01594773, -0.00591185, -0.00649538],\n",
      "       [ 0.00931105, -0.0017996 , -0.01349919, -0.1275091 , -0.00141281,\n",
      "        -0.01141974, -0.00082368, -0.00252789],\n",
      "       [ 0.02618553,  0.02635799, -0.01161666,  0.04107951, -0.02715369,\n",
      "        -0.0428123 , -0.02836099, -0.04412064],\n",
      "       [ 0.07406871, -0.11243837, -0.01432614,  0.00742587, -0.12599313,\n",
      "         0.00958944, -0.07640176,  0.03481397],\n",
      "       [-0.08228262, -0.01053935, -0.00902079,  0.02519976, -0.01787872,\n",
      "        -0.01866753, -0.03688973,  0.07876397]], dtype=float32), array([ 0.04194228,  0.22137371,  0.        , -0.05361428,  0.17516756,\n",
      "        0.        ,  0.18265407,  0.07559803], dtype=float32), array([[ 0.28178057,  0.09073965,  0.65148741, -0.53217876],\n",
      "       [-0.15976797,  0.17543736,  0.32957581, -0.37928745],\n",
      "       [-0.53149939,  0.57795042,  0.17422748,  0.49148923],\n",
      "       [-0.21703959, -0.71623296, -0.62228477,  0.48428002],\n",
      "       [-0.55644101,  0.13511667,  0.16887207,  0.13768992],\n",
      "       [-0.68119693,  0.53467959,  0.64922768,  0.65410608],\n",
      "       [-0.56197536,  0.53237212, -0.09760615,  0.13983484],\n",
      "       [ 0.70131296,  0.48073182, -0.22975993,  0.61971337]], dtype=float32), array([ -4.74208093e-04,  -2.66287825e-05,   5.32262260e-03,\n",
      "        -2.77515985e-02], dtype=float32), array([[-0.51250857],\n",
      "       [-0.7305243 ],\n",
      "       [-0.43202969],\n",
      "       [-0.2789526 ]], dtype=float32), array([ 0.02228681], dtype=float32)]\n"
     ]
    }
   ],
   "source": [
    "print(model.get_weights())"
   ]
  },
  {
   "cell_type": "code",
   "execution_count": 30,
   "metadata": {},
   "outputs": [
    {
     "name": "stdout",
     "output_type": "stream",
     "text": [
      "_________________________________________________________________\n",
      "Layer (type)                 Output Shape              Param #   \n",
      "=================================================================\n",
      "dense_4 (Dense)              (None, 8)                 72        \n",
      "_________________________________________________________________\n",
      "dense_5 (Dense)              (None, 4)                 36        \n",
      "_________________________________________________________________\n",
      "dense_6 (Dense)              (None, 1)                 5         \n",
      "=================================================================\n",
      "Total params: 113\n",
      "Trainable params: 113\n",
      "Non-trainable params: 0\n",
      "_________________________________________________________________\n",
      "None\n"
     ]
    }
   ],
   "source": [
    "print(model.summary())"
   ]
  },
  {
   "cell_type": "code",
   "execution_count": 18,
   "metadata": {},
   "outputs": [
    {
     "ename": "ImportError",
     "evalue": "Failed to import `pydot`. Please install `pydot`. For example with `pip install pydot`.",
     "output_type": "error",
     "traceback": [
      "\u001b[1;31m---------------------------------------------------------------------------\u001b[0m",
      "\u001b[1;31mImportError\u001b[0m                               Traceback (most recent call last)",
      "\u001b[1;32m<ipython-input-18-b950b8cba428>\u001b[0m in \u001b[0;36m<module>\u001b[1;34m\u001b[0m\n\u001b[1;32m----> 1\u001b[1;33m \u001b[0mplot_model\u001b[0m\u001b[1;33m(\u001b[0m\u001b[0mmodel\u001b[0m\u001b[1;33m,\u001b[0m \u001b[0mto_file\u001b[0m\u001b[1;33m=\u001b[0m\u001b[1;34m'model.png'\u001b[0m\u001b[1;33m)\u001b[0m\u001b[1;33m\u001b[0m\u001b[1;33m\u001b[0m\u001b[0m\n\u001b[0m",
      "\u001b[1;32mc:\\users\\gururaj\\python\\lib\\site-packages\\keras\\utils\\vis_utils.py\u001b[0m in \u001b[0;36mplot_model\u001b[1;34m(model, to_file, show_shapes, show_layer_names, rankdir)\u001b[0m\n\u001b[0;32m    130\u001b[0m             \u001b[1;34m'LR'\u001b[0m \u001b[0mcreates\u001b[0m \u001b[0ma\u001b[0m \u001b[0mhorizontal\u001b[0m \u001b[0mplot\u001b[0m\u001b[1;33m.\u001b[0m\u001b[1;33m\u001b[0m\u001b[1;33m\u001b[0m\u001b[0m\n\u001b[0;32m    131\u001b[0m     \"\"\"\n\u001b[1;32m--> 132\u001b[1;33m     \u001b[0mdot\u001b[0m \u001b[1;33m=\u001b[0m \u001b[0mmodel_to_dot\u001b[0m\u001b[1;33m(\u001b[0m\u001b[0mmodel\u001b[0m\u001b[1;33m,\u001b[0m \u001b[0mshow_shapes\u001b[0m\u001b[1;33m,\u001b[0m \u001b[0mshow_layer_names\u001b[0m\u001b[1;33m,\u001b[0m \u001b[0mrankdir\u001b[0m\u001b[1;33m)\u001b[0m\u001b[1;33m\u001b[0m\u001b[1;33m\u001b[0m\u001b[0m\n\u001b[0m\u001b[0;32m    133\u001b[0m     \u001b[0m_\u001b[0m\u001b[1;33m,\u001b[0m \u001b[0mextension\u001b[0m \u001b[1;33m=\u001b[0m \u001b[0mos\u001b[0m\u001b[1;33m.\u001b[0m\u001b[0mpath\u001b[0m\u001b[1;33m.\u001b[0m\u001b[0msplitext\u001b[0m\u001b[1;33m(\u001b[0m\u001b[0mto_file\u001b[0m\u001b[1;33m)\u001b[0m\u001b[1;33m\u001b[0m\u001b[1;33m\u001b[0m\u001b[0m\n\u001b[0;32m    134\u001b[0m     \u001b[1;32mif\u001b[0m \u001b[1;32mnot\u001b[0m \u001b[0mextension\u001b[0m\u001b[1;33m:\u001b[0m\u001b[1;33m\u001b[0m\u001b[1;33m\u001b[0m\u001b[0m\n",
      "\u001b[1;32mc:\\users\\gururaj\\python\\lib\\site-packages\\keras\\utils\\vis_utils.py\u001b[0m in \u001b[0;36mmodel_to_dot\u001b[1;34m(model, show_shapes, show_layer_names, rankdir)\u001b[0m\n\u001b[0;32m     53\u001b[0m     \u001b[1;32mfrom\u001b[0m \u001b[1;33m.\u001b[0m\u001b[1;33m.\u001b[0m\u001b[0mmodels\u001b[0m \u001b[1;32mimport\u001b[0m \u001b[0mSequential\u001b[0m\u001b[1;33m\u001b[0m\u001b[1;33m\u001b[0m\u001b[0m\n\u001b[0;32m     54\u001b[0m \u001b[1;33m\u001b[0m\u001b[0m\n\u001b[1;32m---> 55\u001b[1;33m     \u001b[0m_check_pydot\u001b[0m\u001b[1;33m(\u001b[0m\u001b[1;33m)\u001b[0m\u001b[1;33m\u001b[0m\u001b[1;33m\u001b[0m\u001b[0m\n\u001b[0m\u001b[0;32m     56\u001b[0m     \u001b[0mdot\u001b[0m \u001b[1;33m=\u001b[0m \u001b[0mpydot\u001b[0m\u001b[1;33m.\u001b[0m\u001b[0mDot\u001b[0m\u001b[1;33m(\u001b[0m\u001b[1;33m)\u001b[0m\u001b[1;33m\u001b[0m\u001b[1;33m\u001b[0m\u001b[0m\n\u001b[0;32m     57\u001b[0m     \u001b[0mdot\u001b[0m\u001b[1;33m.\u001b[0m\u001b[0mset\u001b[0m\u001b[1;33m(\u001b[0m\u001b[1;34m'rankdir'\u001b[0m\u001b[1;33m,\u001b[0m \u001b[0mrankdir\u001b[0m\u001b[1;33m)\u001b[0m\u001b[1;33m\u001b[0m\u001b[1;33m\u001b[0m\u001b[0m\n",
      "\u001b[1;32mc:\\users\\gururaj\\python\\lib\\site-packages\\keras\\utils\\vis_utils.py\u001b[0m in \u001b[0;36m_check_pydot\u001b[1;34m()\u001b[0m\n\u001b[0;32m     18\u001b[0m     \u001b[1;32mif\u001b[0m \u001b[0mpydot\u001b[0m \u001b[1;32mis\u001b[0m \u001b[1;32mNone\u001b[0m\u001b[1;33m:\u001b[0m\u001b[1;33m\u001b[0m\u001b[1;33m\u001b[0m\u001b[0m\n\u001b[0;32m     19\u001b[0m         raise ImportError(\n\u001b[1;32m---> 20\u001b[1;33m             \u001b[1;34m'Failed to import `pydot`. '\u001b[0m\u001b[1;33m\u001b[0m\u001b[1;33m\u001b[0m\u001b[0m\n\u001b[0m\u001b[0;32m     21\u001b[0m             \u001b[1;34m'Please install `pydot`. '\u001b[0m\u001b[1;33m\u001b[0m\u001b[1;33m\u001b[0m\u001b[0m\n\u001b[0;32m     22\u001b[0m             'For example with `pip install pydot`.')\n",
      "\u001b[1;31mImportError\u001b[0m: Failed to import `pydot`. Please install `pydot`. For example with `pip install pydot`."
     ]
    }
   ],
   "source": [
    "#plot_model(model, to_file='model.png')"
   ]
  },
  {
   "cell_type": "code",
   "execution_count": 33,
   "metadata": {},
   "outputs": [
    {
     "ename": "ExecutableNotFound",
     "evalue": "failed to execute ['dot', '-Tpdf', '-O', 'network.gv'], make sure the Graphviz executables are on your systems' PATH",
     "output_type": "error",
     "traceback": [
      "\u001b[1;31m---------------------------------------------------------------------------\u001b[0m",
      "\u001b[1;31mFileNotFoundError\u001b[0m                         Traceback (most recent call last)",
      "\u001b[1;32mc:\\users\\gururaj\\python\\lib\\site-packages\\graphviz\\backend.py\u001b[0m in \u001b[0;36mrun\u001b[1;34m(cmd, input, capture_output, check, quiet, **kwargs)\u001b[0m\n\u001b[0;32m    146\u001b[0m     \u001b[1;32mtry\u001b[0m\u001b[1;33m:\u001b[0m\u001b[1;33m\u001b[0m\u001b[1;33m\u001b[0m\u001b[0m\n\u001b[1;32m--> 147\u001b[1;33m         \u001b[0mproc\u001b[0m \u001b[1;33m=\u001b[0m \u001b[0msubprocess\u001b[0m\u001b[1;33m.\u001b[0m\u001b[0mPopen\u001b[0m\u001b[1;33m(\u001b[0m\u001b[0mcmd\u001b[0m\u001b[1;33m,\u001b[0m \u001b[0mstartupinfo\u001b[0m\u001b[1;33m=\u001b[0m\u001b[0mget_startupinfo\u001b[0m\u001b[1;33m(\u001b[0m\u001b[1;33m)\u001b[0m\u001b[1;33m,\u001b[0m \u001b[1;33m**\u001b[0m\u001b[0mkwargs\u001b[0m\u001b[1;33m)\u001b[0m\u001b[1;33m\u001b[0m\u001b[1;33m\u001b[0m\u001b[0m\n\u001b[0m\u001b[0;32m    148\u001b[0m     \u001b[1;32mexcept\u001b[0m \u001b[0mOSError\u001b[0m \u001b[1;32mas\u001b[0m \u001b[0me\u001b[0m\u001b[1;33m:\u001b[0m\u001b[1;33m\u001b[0m\u001b[1;33m\u001b[0m\u001b[0m\n",
      "\u001b[1;32mc:\\users\\gururaj\\python\\lib\\subprocess.py\u001b[0m in \u001b[0;36m__init__\u001b[1;34m(self, args, bufsize, executable, stdin, stdout, stderr, preexec_fn, close_fds, shell, cwd, env, universal_newlines, startupinfo, creationflags, restore_signals, start_new_session, pass_fds, encoding, errors)\u001b[0m\n\u001b[0;32m    708\u001b[0m                                 \u001b[0merrread\u001b[0m\u001b[1;33m,\u001b[0m \u001b[0merrwrite\u001b[0m\u001b[1;33m,\u001b[0m\u001b[1;33m\u001b[0m\u001b[1;33m\u001b[0m\u001b[0m\n\u001b[1;32m--> 709\u001b[1;33m                                 restore_signals, start_new_session)\n\u001b[0m\u001b[0;32m    710\u001b[0m         \u001b[1;32mexcept\u001b[0m\u001b[1;33m:\u001b[0m\u001b[1;33m\u001b[0m\u001b[1;33m\u001b[0m\u001b[0m\n",
      "\u001b[1;32mc:\\users\\gururaj\\python\\lib\\subprocess.py\u001b[0m in \u001b[0;36m_execute_child\u001b[1;34m(self, args, executable, preexec_fn, close_fds, pass_fds, cwd, env, startupinfo, creationflags, shell, p2cread, p2cwrite, c2pread, c2pwrite, errread, errwrite, unused_restore_signals, unused_start_new_session)\u001b[0m\n\u001b[0;32m    996\u001b[0m                                          \u001b[0mos\u001b[0m\u001b[1;33m.\u001b[0m\u001b[0mfspath\u001b[0m\u001b[1;33m(\u001b[0m\u001b[0mcwd\u001b[0m\u001b[1;33m)\u001b[0m \u001b[1;32mif\u001b[0m \u001b[0mcwd\u001b[0m \u001b[1;32mis\u001b[0m \u001b[1;32mnot\u001b[0m \u001b[1;32mNone\u001b[0m \u001b[1;32melse\u001b[0m \u001b[1;32mNone\u001b[0m\u001b[1;33m,\u001b[0m\u001b[1;33m\u001b[0m\u001b[1;33m\u001b[0m\u001b[0m\n\u001b[1;32m--> 997\u001b[1;33m                                          startupinfo)\n\u001b[0m\u001b[0;32m    998\u001b[0m             \u001b[1;32mfinally\u001b[0m\u001b[1;33m:\u001b[0m\u001b[1;33m\u001b[0m\u001b[1;33m\u001b[0m\u001b[0m\n",
      "\u001b[1;31mFileNotFoundError\u001b[0m: [WinError 2] The system cannot find the file specified",
      "\nDuring handling of the above exception, another exception occurred:\n",
      "\u001b[1;31mExecutableNotFound\u001b[0m                        Traceback (most recent call last)",
      "\u001b[1;32m<ipython-input-33-b12b6f8953af>\u001b[0m in \u001b[0;36m<module>\u001b[1;34m\u001b[0m\n\u001b[1;32m----> 1\u001b[1;33m \u001b[0mann_viz\u001b[0m\u001b[1;33m(\u001b[0m\u001b[0mmodel\u001b[0m\u001b[1;33m,\u001b[0m\u001b[0mtitle\u001b[0m\u001b[1;33m=\u001b[0m\u001b[1;34m\"model.png\"\u001b[0m\u001b[1;33m)\u001b[0m\u001b[1;33m\u001b[0m\u001b[1;33m\u001b[0m\u001b[0m\n\u001b[0m",
      "\u001b[1;32mc:\\users\\gururaj\\python\\lib\\site-packages\\ann_visualizer\\visualize.py\u001b[0m in \u001b[0;36mann_viz\u001b[1;34m(model, view, filename, title)\u001b[0m\n\u001b[0;32m    204\u001b[0m         \u001b[0mg\u001b[0m\u001b[1;33m.\u001b[0m\u001b[0medge_attr\u001b[0m\u001b[1;33m.\u001b[0m\u001b[0mupdate\u001b[0m\u001b[1;33m(\u001b[0m\u001b[0marrowhead\u001b[0m\u001b[1;33m=\u001b[0m\u001b[1;34m\"none\"\u001b[0m\u001b[1;33m,\u001b[0m \u001b[0mcolor\u001b[0m\u001b[1;33m=\u001b[0m\u001b[1;34m\"#707070\"\u001b[0m\u001b[1;33m)\u001b[0m\u001b[1;33m;\u001b[0m\u001b[1;33m\u001b[0m\u001b[1;33m\u001b[0m\u001b[0m\n\u001b[0;32m    205\u001b[0m         \u001b[1;32mif\u001b[0m \u001b[0mview\u001b[0m \u001b[1;33m==\u001b[0m \u001b[1;32mTrue\u001b[0m\u001b[1;33m:\u001b[0m\u001b[1;33m\u001b[0m\u001b[1;33m\u001b[0m\u001b[0m\n\u001b[1;32m--> 206\u001b[1;33m             \u001b[0mg\u001b[0m\u001b[1;33m.\u001b[0m\u001b[0mview\u001b[0m\u001b[1;33m(\u001b[0m\u001b[1;33m)\u001b[0m\u001b[1;33m;\u001b[0m\u001b[1;33m\u001b[0m\u001b[1;33m\u001b[0m\u001b[0m\n\u001b[0m",
      "\u001b[1;32mc:\\users\\gururaj\\python\\lib\\site-packages\\graphviz\\files.py\u001b[0m in \u001b[0;36mview\u001b[1;34m(self, filename, directory, cleanup)\u001b[0m\n\u001b[0;32m    213\u001b[0m         \"\"\"\n\u001b[0;32m    214\u001b[0m         return self.render(filename=filename, directory=directory, view=True,\n\u001b[1;32m--> 215\u001b[1;33m                            cleanup=cleanup)\n\u001b[0m\u001b[0;32m    216\u001b[0m \u001b[1;33m\u001b[0m\u001b[0m\n\u001b[0;32m    217\u001b[0m     \u001b[1;32mdef\u001b[0m \u001b[0m_view\u001b[0m\u001b[1;33m(\u001b[0m\u001b[0mself\u001b[0m\u001b[1;33m,\u001b[0m \u001b[0mfilepath\u001b[0m\u001b[1;33m,\u001b[0m \u001b[0mformat\u001b[0m\u001b[1;33m)\u001b[0m\u001b[1;33m:\u001b[0m\u001b[1;33m\u001b[0m\u001b[1;33m\u001b[0m\u001b[0m\n",
      "\u001b[1;32mc:\\users\\gururaj\\python\\lib\\site-packages\\graphviz\\files.py\u001b[0m in \u001b[0;36mrender\u001b[1;34m(self, filename, directory, view, cleanup, format, renderer, formatter)\u001b[0m\n\u001b[0;32m    186\u001b[0m             \u001b[0mformat\u001b[0m \u001b[1;33m=\u001b[0m \u001b[0mself\u001b[0m\u001b[1;33m.\u001b[0m\u001b[0m_format\u001b[0m\u001b[1;33m\u001b[0m\u001b[1;33m\u001b[0m\u001b[0m\n\u001b[0;32m    187\u001b[0m \u001b[1;33m\u001b[0m\u001b[0m\n\u001b[1;32m--> 188\u001b[1;33m         \u001b[0mrendered\u001b[0m \u001b[1;33m=\u001b[0m \u001b[0mbackend\u001b[0m\u001b[1;33m.\u001b[0m\u001b[0mrender\u001b[0m\u001b[1;33m(\u001b[0m\u001b[0mself\u001b[0m\u001b[1;33m.\u001b[0m\u001b[0m_engine\u001b[0m\u001b[1;33m,\u001b[0m \u001b[0mformat\u001b[0m\u001b[1;33m,\u001b[0m \u001b[0mfilepath\u001b[0m\u001b[1;33m,\u001b[0m \u001b[0mrenderer\u001b[0m\u001b[1;33m,\u001b[0m \u001b[0mformatter\u001b[0m\u001b[1;33m)\u001b[0m\u001b[1;33m\u001b[0m\u001b[1;33m\u001b[0m\u001b[0m\n\u001b[0m\u001b[0;32m    189\u001b[0m \u001b[1;33m\u001b[0m\u001b[0m\n\u001b[0;32m    190\u001b[0m         \u001b[1;32mif\u001b[0m \u001b[0mcleanup\u001b[0m\u001b[1;33m:\u001b[0m\u001b[1;33m\u001b[0m\u001b[1;33m\u001b[0m\u001b[0m\n",
      "\u001b[1;32mc:\\users\\gururaj\\python\\lib\\site-packages\\graphviz\\backend.py\u001b[0m in \u001b[0;36mrender\u001b[1;34m(engine, format, filepath, renderer, formatter, quiet)\u001b[0m\n\u001b[0;32m    181\u001b[0m     \"\"\"\n\u001b[0;32m    182\u001b[0m     \u001b[0mcmd\u001b[0m\u001b[1;33m,\u001b[0m \u001b[0mrendered\u001b[0m \u001b[1;33m=\u001b[0m \u001b[0mcommand\u001b[0m\u001b[1;33m(\u001b[0m\u001b[0mengine\u001b[0m\u001b[1;33m,\u001b[0m \u001b[0mformat\u001b[0m\u001b[1;33m,\u001b[0m \u001b[0mfilepath\u001b[0m\u001b[1;33m,\u001b[0m \u001b[0mrenderer\u001b[0m\u001b[1;33m,\u001b[0m \u001b[0mformatter\u001b[0m\u001b[1;33m)\u001b[0m\u001b[1;33m\u001b[0m\u001b[1;33m\u001b[0m\u001b[0m\n\u001b[1;32m--> 183\u001b[1;33m     \u001b[0mrun\u001b[0m\u001b[1;33m(\u001b[0m\u001b[0mcmd\u001b[0m\u001b[1;33m,\u001b[0m \u001b[0mcapture_output\u001b[0m\u001b[1;33m=\u001b[0m\u001b[1;32mTrue\u001b[0m\u001b[1;33m,\u001b[0m \u001b[0mcheck\u001b[0m\u001b[1;33m=\u001b[0m\u001b[1;32mTrue\u001b[0m\u001b[1;33m,\u001b[0m \u001b[0mquiet\u001b[0m\u001b[1;33m=\u001b[0m\u001b[0mquiet\u001b[0m\u001b[1;33m)\u001b[0m\u001b[1;33m\u001b[0m\u001b[1;33m\u001b[0m\u001b[0m\n\u001b[0m\u001b[0;32m    184\u001b[0m     \u001b[1;32mreturn\u001b[0m \u001b[0mrendered\u001b[0m\u001b[1;33m\u001b[0m\u001b[1;33m\u001b[0m\u001b[0m\n\u001b[0;32m    185\u001b[0m \u001b[1;33m\u001b[0m\u001b[0m\n",
      "\u001b[1;32mc:\\users\\gururaj\\python\\lib\\site-packages\\graphviz\\backend.py\u001b[0m in \u001b[0;36mrun\u001b[1;34m(cmd, input, capture_output, check, quiet, **kwargs)\u001b[0m\n\u001b[0;32m    148\u001b[0m     \u001b[1;32mexcept\u001b[0m \u001b[0mOSError\u001b[0m \u001b[1;32mas\u001b[0m \u001b[0me\u001b[0m\u001b[1;33m:\u001b[0m\u001b[1;33m\u001b[0m\u001b[1;33m\u001b[0m\u001b[0m\n\u001b[0;32m    149\u001b[0m         \u001b[1;32mif\u001b[0m \u001b[0me\u001b[0m\u001b[1;33m.\u001b[0m\u001b[0merrno\u001b[0m \u001b[1;33m==\u001b[0m \u001b[0merrno\u001b[0m\u001b[1;33m.\u001b[0m\u001b[0mENOENT\u001b[0m\u001b[1;33m:\u001b[0m\u001b[1;33m\u001b[0m\u001b[1;33m\u001b[0m\u001b[0m\n\u001b[1;32m--> 150\u001b[1;33m             \u001b[1;32mraise\u001b[0m \u001b[0mExecutableNotFound\u001b[0m\u001b[1;33m(\u001b[0m\u001b[0mcmd\u001b[0m\u001b[1;33m)\u001b[0m\u001b[1;33m\u001b[0m\u001b[1;33m\u001b[0m\u001b[0m\n\u001b[0m\u001b[0;32m    151\u001b[0m         \u001b[1;32melse\u001b[0m\u001b[1;33m:\u001b[0m  \u001b[1;31m# pragma: no cover\u001b[0m\u001b[1;33m\u001b[0m\u001b[1;33m\u001b[0m\u001b[0m\n\u001b[0;32m    152\u001b[0m             \u001b[1;32mraise\u001b[0m\u001b[1;33m\u001b[0m\u001b[1;33m\u001b[0m\u001b[0m\n",
      "\u001b[1;31mExecutableNotFound\u001b[0m: failed to execute ['dot', '-Tpdf', '-O', 'network.gv'], make sure the Graphviz executables are on your systems' PATH"
     ]
    }
   ],
   "source": [
    "ann_viz(model,title=\"model.png\")"
   ]
  },
  {
   "cell_type": "code",
   "execution_count": null,
   "metadata": {},
   "outputs": [],
   "source": []
  }
 ],
 "metadata": {
  "kernelspec": {
   "display_name": "Python 3",
   "language": "python",
   "name": "python3"
  },
  "language_info": {
   "codemirror_mode": {
    "name": "ipython",
    "version": 3
   },
   "file_extension": ".py",
   "mimetype": "text/x-python",
   "name": "python",
   "nbconvert_exporter": "python",
   "pygments_lexer": "ipython3",
   "version": "3.6.7"
  }
 },
 "nbformat": 4,
 "nbformat_minor": 2
}
